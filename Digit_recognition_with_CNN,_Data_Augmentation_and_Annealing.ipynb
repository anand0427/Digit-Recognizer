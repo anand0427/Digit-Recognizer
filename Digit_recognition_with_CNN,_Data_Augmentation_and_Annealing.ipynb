{
  "nbformat": 4,
  "nbformat_minor": 0,
  "metadata": {
    "colab": {
      "name": "Digit recognition with CNN, Data Augmentation and Annealing",
      "provenance": [],
      "collapsed_sections": []
    },
    "kernelspec": {
      "display_name": "Python 3",
      "name": "python3"
    },
    "accelerator": "GPU"
  },
  "cells": [
    {
      "cell_type": "code",
      "metadata": {
        "id": "ZmLGx1S8XVpY",
        "colab_type": "code",
        "colab": {}
      },
      "source": [
        "import keras\n",
        "from keras.datasets import mnist"
      ],
      "execution_count": 0,
      "outputs": []
    },
    {
      "cell_type": "code",
      "metadata": {
        "id": "-4SJW-wNXq-c",
        "colab_type": "code",
        "colab": {}
      },
      "source": [
        "batch_size = 128\n",
        "num_classes = 10\n",
        "epochs = 30"
      ],
      "execution_count": 0,
      "outputs": []
    },
    {
      "cell_type": "code",
      "metadata": {
        "id": "hmT5zPbbXu8V",
        "colab_type": "code",
        "colab": {}
      },
      "source": [
        "(x_train, y_train), (x_test, y_test) = mnist.load_data()"
      ],
      "execution_count": 0,
      "outputs": []
    },
    {
      "cell_type": "code",
      "metadata": {
        "id": "yhqG_R3eX_qY",
        "colab_type": "code",
        "colab": {}
      },
      "source": [
        "from keras import backend"
      ],
      "execution_count": 0,
      "outputs": []
    },
    {
      "cell_type": "code",
      "metadata": {
        "id": "KLPN0WWEXxJo",
        "colab_type": "code",
        "colab": {}
      },
      "source": [
        "if backend.image_data_format() == 'channels_first':\n",
        "    x_train = x_train.reshape(x_train.shape[0], 1, 28, 28)\n",
        "    x_test = x_test.reshape(x_test.shape[0], 1, 28, 28)\n",
        "    input_shape = (1, 28, 28)\n",
        "else:\n",
        "    x_train = x_train.reshape(x_train.shape[0], 28, 28, 1)\n",
        "    x_test = x_test.reshape(x_test.shape[0], 28, 28, 1)\n",
        "    input_shape = (28, 28, 1)"
      ],
      "execution_count": 0,
      "outputs": []
    },
    {
      "cell_type": "code",
      "metadata": {
        "id": "ASA9yOmqX9x2",
        "colab_type": "code",
        "colab": {}
      },
      "source": [
        "x_train = x_train.astype('float')\n",
        "x_test = x_test.astype('float')\n",
        "x_train /= 255\n",
        "x_test /= 255"
      ],
      "execution_count": 0,
      "outputs": []
    },
    {
      "cell_type": "code",
      "metadata": {
        "id": "LU6BUlWfYNnh",
        "colab_type": "code",
        "colab": {}
      },
      "source": [
        "y_train = keras.utils.to_categorical(y_train, num_classes)\n",
        "y_test = keras.utils.to_categorical(y_test, num_classes)"
      ],
      "execution_count": 0,
      "outputs": []
    },
    {
      "cell_type": "code",
      "metadata": {
        "id": "l9sBFiCwYR1U",
        "colab_type": "code",
        "colab": {}
      },
      "source": [
        "from keras.models import Sequential\n",
        "model = Sequential()"
      ],
      "execution_count": 0,
      "outputs": []
    },
    {
      "cell_type": "code",
      "metadata": {
        "id": "jfAc8QwKYXIj",
        "colab_type": "code",
        "colab": {}
      },
      "source": [
        "from keras.layers import Conv2D, MaxPooling2D, Dropout, Flatten, Dense"
      ],
      "execution_count": 0,
      "outputs": []
    },
    {
      "cell_type": "code",
      "metadata": {
        "id": "OToaj9o_YWAf",
        "colab_type": "code",
        "colab": {}
      },
      "source": [
        "model.add(Conv2D(32, kernel_size=(5, 5), activation='relu', input_shape=input_shape))\n",
        "model.add(Conv2D(32, kernel_size=(5, 5), activation='relu', input_shape=input_shape))\n",
        "model.add(MaxPooling2D(pool_size=(2, 2)))\n",
        "model.add(Dropout(0.25))\n",
        "model.add(Conv2D(64, (3, 3), activation='relu'))\n",
        "model.add(Conv2D(64, (3, 3), activation='relu'))\n",
        "model.add(MaxPooling2D(pool_size=(2, 2)))\n",
        "model.add(Dropout(0.25))\n",
        "model.add(Flatten())\n",
        "\n",
        "model.add(Dense(256, activation='relu'))\n",
        "model.add(Dropout(0.5))\n",
        "model.add(Dense(num_classes, activation='softmax'))"
      ],
      "execution_count": 0,
      "outputs": []
    },
    {
      "cell_type": "code",
      "metadata": {
        "id": "SrOMJESjYix8",
        "colab_type": "code",
        "colab": {}
      },
      "source": [
        "model.compile(loss=keras.losses.categorical_crossentropy, optimizer=keras.optimizers.RMSprop(lr = 0.001, rho=0.9, epsilon=1e-08, decay = 0.0), metrics=['accuracy'])"
      ],
      "execution_count": 0,
      "outputs": []
    },
    {
      "cell_type": "code",
      "metadata": {
        "id": "yJmwbjL2Ywj3",
        "colab_type": "code",
        "outputId": "f0a03e42-ec5c-4c03-96e3-5e60d697f0b1",
        "colab": {
          "base_uri": "https://localhost:8080/",
          "height": 1000
        }
      },
      "source": [
        "model.fit(x_train, y_train, batch_size=batch_size, epochs=epochs, verbose=1, validation_data=(x_test, y_test))"
      ],
      "execution_count": 0,
      "outputs": [
        {
          "output_type": "stream",
          "text": [
            "Train on 60000 samples, validate on 10000 samples\n",
            "Epoch 1/30\n",
            "60000/60000 [==============================] - 9s 145us/step - loss: 0.2609 - accuracy: 0.9169 - val_loss: 0.0783 - val_accuracy: 0.9719\n",
            "Epoch 2/30\n",
            "60000/60000 [==============================] - 8s 134us/step - loss: 0.0756 - accuracy: 0.9778 - val_loss: 0.0333 - val_accuracy: 0.9895\n",
            "Epoch 3/30\n",
            "60000/60000 [==============================] - 8s 132us/step - loss: 0.0561 - accuracy: 0.9831 - val_loss: 0.0314 - val_accuracy: 0.9895\n",
            "Epoch 4/30\n",
            "60000/60000 [==============================] - 8s 132us/step - loss: 0.0437 - accuracy: 0.9874 - val_loss: 0.0229 - val_accuracy: 0.9933\n",
            "Epoch 5/30\n",
            "60000/60000 [==============================] - 8s 134us/step - loss: 0.0400 - accuracy: 0.9881 - val_loss: 0.0204 - val_accuracy: 0.9921\n",
            "Epoch 6/30\n",
            "60000/60000 [==============================] - 8s 134us/step - loss: 0.0356 - accuracy: 0.9893 - val_loss: 0.0250 - val_accuracy: 0.9926\n",
            "Epoch 7/30\n",
            "60000/60000 [==============================] - 8s 133us/step - loss: 0.0320 - accuracy: 0.9904 - val_loss: 0.0218 - val_accuracy: 0.9940\n",
            "Epoch 8/30\n",
            "60000/60000 [==============================] - 8s 131us/step - loss: 0.0289 - accuracy: 0.9915 - val_loss: 0.0186 - val_accuracy: 0.9946\n",
            "Epoch 9/30\n",
            "60000/60000 [==============================] - 8s 131us/step - loss: 0.0276 - accuracy: 0.9920 - val_loss: 0.0215 - val_accuracy: 0.9945\n",
            "Epoch 10/30\n",
            "60000/60000 [==============================] - 8s 132us/step - loss: 0.0274 - accuracy: 0.9923 - val_loss: 0.0209 - val_accuracy: 0.9936\n",
            "Epoch 11/30\n",
            "60000/60000 [==============================] - 8s 132us/step - loss: 0.0258 - accuracy: 0.9924 - val_loss: 0.0200 - val_accuracy: 0.9939\n",
            "Epoch 12/30\n",
            "60000/60000 [==============================] - 8s 131us/step - loss: 0.0281 - accuracy: 0.9920 - val_loss: 0.0205 - val_accuracy: 0.9938\n",
            "Epoch 13/30\n",
            "60000/60000 [==============================] - 8s 130us/step - loss: 0.0270 - accuracy: 0.9922 - val_loss: 0.0248 - val_accuracy: 0.9940\n",
            "Epoch 14/30\n",
            "60000/60000 [==============================] - 8s 131us/step - loss: 0.0246 - accuracy: 0.9930 - val_loss: 0.0248 - val_accuracy: 0.9922\n",
            "Epoch 15/30\n",
            "60000/60000 [==============================] - 8s 130us/step - loss: 0.0260 - accuracy: 0.9923 - val_loss: 0.0287 - val_accuracy: 0.9907\n",
            "Epoch 16/30\n",
            "60000/60000 [==============================] - 8s 130us/step - loss: 0.0275 - accuracy: 0.9923 - val_loss: 0.0256 - val_accuracy: 0.9926\n",
            "Epoch 17/30\n",
            "60000/60000 [==============================] - 8s 131us/step - loss: 0.0277 - accuracy: 0.9926 - val_loss: 0.0258 - val_accuracy: 0.9937\n",
            "Epoch 18/30\n",
            "60000/60000 [==============================] - 8s 133us/step - loss: 0.0283 - accuracy: 0.9922 - val_loss: 0.0244 - val_accuracy: 0.9950\n",
            "Epoch 19/30\n",
            "60000/60000 [==============================] - 8s 133us/step - loss: 0.0272 - accuracy: 0.9929 - val_loss: 0.0302 - val_accuracy: 0.9919\n",
            "Epoch 20/30\n",
            "60000/60000 [==============================] - 8s 130us/step - loss: 0.0290 - accuracy: 0.9920 - val_loss: 0.0248 - val_accuracy: 0.9937\n",
            "Epoch 21/30\n",
            "60000/60000 [==============================] - 8s 130us/step - loss: 0.0281 - accuracy: 0.9923 - val_loss: 0.0413 - val_accuracy: 0.9908\n",
            "Epoch 22/30\n",
            "60000/60000 [==============================] - 8s 129us/step - loss: 0.0300 - accuracy: 0.9920 - val_loss: 0.0359 - val_accuracy: 0.9916\n",
            "Epoch 23/30\n",
            "60000/60000 [==============================] - 8s 131us/step - loss: 0.0295 - accuracy: 0.9922 - val_loss: 0.0275 - val_accuracy: 0.9931\n",
            "Epoch 24/30\n",
            "60000/60000 [==============================] - 8s 131us/step - loss: 0.0304 - accuracy: 0.9922 - val_loss: 0.0235 - val_accuracy: 0.9945\n",
            "Epoch 25/30\n",
            "60000/60000 [==============================] - 8s 133us/step - loss: 0.0320 - accuracy: 0.9917 - val_loss: 0.0298 - val_accuracy: 0.9920\n",
            "Epoch 26/30\n",
            "60000/60000 [==============================] - 8s 131us/step - loss: 0.0306 - accuracy: 0.9923 - val_loss: 0.0260 - val_accuracy: 0.9929\n",
            "Epoch 27/30\n",
            "60000/60000 [==============================] - 8s 133us/step - loss: 0.0361 - accuracy: 0.9913 - val_loss: 0.0377 - val_accuracy: 0.9932\n",
            "Epoch 28/30\n",
            "60000/60000 [==============================] - 8s 134us/step - loss: 0.0352 - accuracy: 0.9915 - val_loss: 0.0293 - val_accuracy: 0.9926\n",
            "Epoch 29/30\n",
            "60000/60000 [==============================] - 8s 133us/step - loss: 0.0357 - accuracy: 0.9907 - val_loss: 0.0376 - val_accuracy: 0.9914\n",
            "Epoch 30/30\n",
            "60000/60000 [==============================] - 8s 131us/step - loss: 0.0326 - accuracy: 0.9917 - val_loss: 0.0338 - val_accuracy: 0.9933\n"
          ],
          "name": "stdout"
        },
        {
          "output_type": "execute_result",
          "data": {
            "text/plain": [
              "<keras.callbacks.callbacks.History at 0x7fdff0097c50>"
            ]
          },
          "metadata": {
            "tags": []
          },
          "execution_count": 45
        }
      ]
    },
    {
      "cell_type": "code",
      "metadata": {
        "id": "IhvJ0LGHq8kO",
        "colab_type": "code",
        "colab": {}
      },
      "source": [
        "from keras.preprocessing.image import ImageDataGenerator"
      ],
      "execution_count": 0,
      "outputs": []
    },
    {
      "cell_type": "code",
      "metadata": {
        "id": "I7jiaYvDq10Z",
        "colab_type": "code",
        "colab": {}
      },
      "source": [
        "datagen = ImageDataGenerator(\n",
        "        featurewise_center=False,  # set input mean to 0 over the dataset\n",
        "        samplewise_center=False,  # set each sample mean to 0\n",
        "        featurewise_std_normalization=False,  # divide inputs by std of the dataset\n",
        "        samplewise_std_normalization=False,  # divide each input by its std\n",
        "        zca_whitening=False,  # apply ZCA whitening\n",
        "        rotation_range=10,  # randomly rotate images in the range (degrees, 0 to 180)\n",
        "        zoom_range = 0.3, # Randomly zoom image \n",
        "        width_shift_range=0.1,  # randomly shift images horizontally (fraction of total width)\n",
        "        height_shift_range=0.1,  # randomly shift images vertically (fraction of total height)\n",
        "        horizontal_flip=False,  # randomly flip images\n",
        "        vertical_flip=False)  # randomly flip images\n",
        "\n",
        "\n",
        "datagen.fit(x_train)"
      ],
      "execution_count": 0,
      "outputs": []
    },
    {
      "cell_type": "code",
      "metadata": {
        "id": "ycMCebbHtNrY",
        "colab_type": "code",
        "colab": {}
      },
      "source": [
        "from keras.callbacks import ReduceLROnPlateau\n",
        "annealer_callback = ReduceLROnPlateau(monitor = 'val_accuracy', patience = 3, verbose = 1, factor = 0.5, min_lr = 0.00001)"
      ],
      "execution_count": 0,
      "outputs": []
    },
    {
      "cell_type": "code",
      "metadata": {
        "id": "LcLwsUNwqfyM",
        "colab_type": "code",
        "outputId": "2b7e7048-19bc-4a0e-8ac6-e4bc6a77ffb1",
        "colab": {
          "base_uri": "https://localhost:8080/",
          "height": 1000
        }
      },
      "source": [
        "model.fit_generator(generator=datagen.flow(x_train, y_train, batch_size = batch_size), steps_per_epoch= x_train.shape[0] // batch_size, epochs=epochs, validation_data=(x_test,y_test), verbose = 2,\n",
        "                    callbacks = [annealer_callback])"
      ],
      "execution_count": 0,
      "outputs": [
        {
          "output_type": "stream",
          "text": [
            "Epoch 1/30\n",
            " - 22s - loss: 0.2462 - accuracy: 0.9331 - val_loss: 0.0251 - val_accuracy: 0.9934\n",
            "Epoch 2/30\n",
            " - 22s - loss: 0.1769 - accuracy: 0.9524 - val_loss: 0.0509 - val_accuracy: 0.9901\n",
            "Epoch 3/30\n",
            " - 22s - loss: 0.1557 - accuracy: 0.9582 - val_loss: 0.0367 - val_accuracy: 0.9933\n",
            "Epoch 4/30\n",
            " - 22s - loss: 0.1446 - accuracy: 0.9609 - val_loss: 0.0338 - val_accuracy: 0.9934\n",
            "\n",
            "Epoch 00004: ReduceLROnPlateau reducing learning rate to 0.0005000000237487257.\n",
            "Epoch 5/30\n",
            " - 22s - loss: 0.1086 - accuracy: 0.9706 - val_loss: 0.0290 - val_accuracy: 0.9935\n",
            "Epoch 6/30\n",
            " - 22s - loss: 0.1098 - accuracy: 0.9707 - val_loss: 0.0336 - val_accuracy: 0.9932\n",
            "Epoch 7/30\n",
            " - 22s - loss: 0.1089 - accuracy: 0.9711 - val_loss: 0.0262 - val_accuracy: 0.9939\n",
            "Epoch 8/30\n",
            " - 22s - loss: 0.1002 - accuracy: 0.9726 - val_loss: 0.0315 - val_accuracy: 0.9932\n",
            "Epoch 9/30\n",
            " - 22s - loss: 0.1036 - accuracy: 0.9720 - val_loss: 0.0384 - val_accuracy: 0.9923\n",
            "Epoch 10/30\n",
            " - 22s - loss: 0.0975 - accuracy: 0.9733 - val_loss: 0.0333 - val_accuracy: 0.9932\n",
            "\n",
            "Epoch 00010: ReduceLROnPlateau reducing learning rate to 0.0002500000118743628.\n",
            "Epoch 11/30\n",
            " - 22s - loss: 0.0884 - accuracy: 0.9763 - val_loss: 0.0360 - val_accuracy: 0.9931\n",
            "Epoch 12/30\n",
            " - 22s - loss: 0.0829 - accuracy: 0.9767 - val_loss: 0.0397 - val_accuracy: 0.9929\n",
            "Epoch 13/30\n",
            " - 22s - loss: 0.0859 - accuracy: 0.9765 - val_loss: 0.0244 - val_accuracy: 0.9945\n",
            "Epoch 14/30\n",
            " - 22s - loss: 0.0863 - accuracy: 0.9759 - val_loss: 0.0352 - val_accuracy: 0.9932\n",
            "Epoch 15/30\n",
            " - 21s - loss: 0.0833 - accuracy: 0.9774 - val_loss: 0.0283 - val_accuracy: 0.9944\n",
            "Epoch 16/30\n",
            " - 22s - loss: 0.0831 - accuracy: 0.9773 - val_loss: 0.0306 - val_accuracy: 0.9930\n",
            "\n",
            "Epoch 00016: ReduceLROnPlateau reducing learning rate to 0.0001250000059371814.\n",
            "Epoch 17/30\n",
            " - 22s - loss: 0.0816 - accuracy: 0.9777 - val_loss: 0.0254 - val_accuracy: 0.9945\n",
            "Epoch 18/30\n",
            " - 21s - loss: 0.0788 - accuracy: 0.9788 - val_loss: 0.0245 - val_accuracy: 0.9947\n",
            "Epoch 19/30\n",
            " - 21s - loss: 0.0758 - accuracy: 0.9788 - val_loss: 0.0274 - val_accuracy: 0.9941\n",
            "Epoch 20/30\n",
            " - 21s - loss: 0.0794 - accuracy: 0.9784 - val_loss: 0.0270 - val_accuracy: 0.9936\n",
            "Epoch 21/30\n",
            " - 22s - loss: 0.0778 - accuracy: 0.9787 - val_loss: 0.0312 - val_accuracy: 0.9931\n",
            "\n",
            "Epoch 00021: ReduceLROnPlateau reducing learning rate to 6.25000029685907e-05.\n",
            "Epoch 22/30\n",
            " - 21s - loss: 0.0732 - accuracy: 0.9803 - val_loss: 0.0329 - val_accuracy: 0.9935\n",
            "Epoch 23/30\n",
            " - 21s - loss: 0.0750 - accuracy: 0.9794 - val_loss: 0.0294 - val_accuracy: 0.9937\n",
            "Epoch 24/30\n",
            " - 21s - loss: 0.0730 - accuracy: 0.9800 - val_loss: 0.0311 - val_accuracy: 0.9934\n",
            "\n",
            "Epoch 00024: ReduceLROnPlateau reducing learning rate to 3.125000148429535e-05.\n",
            "Epoch 25/30\n",
            " - 22s - loss: 0.0720 - accuracy: 0.9800 - val_loss: 0.0298 - val_accuracy: 0.9941\n",
            "Epoch 26/30\n",
            " - 21s - loss: 0.0747 - accuracy: 0.9803 - val_loss: 0.0278 - val_accuracy: 0.9941\n",
            "Epoch 27/30\n",
            " - 21s - loss: 0.0716 - accuracy: 0.9796 - val_loss: 0.0274 - val_accuracy: 0.9941\n",
            "\n",
            "Epoch 00027: ReduceLROnPlateau reducing learning rate to 1.5625000742147677e-05.\n",
            "Epoch 28/30\n",
            " - 21s - loss: 0.0698 - accuracy: 0.9809 - val_loss: 0.0310 - val_accuracy: 0.9938\n",
            "Epoch 29/30\n",
            " - 21s - loss: 0.0685 - accuracy: 0.9814 - val_loss: 0.0323 - val_accuracy: 0.9935\n",
            "Epoch 30/30\n",
            " - 22s - loss: 0.0713 - accuracy: 0.9803 - val_loss: 0.0309 - val_accuracy: 0.9938\n",
            "\n",
            "Epoch 00030: ReduceLROnPlateau reducing learning rate to 1e-05.\n"
          ],
          "name": "stdout"
        },
        {
          "output_type": "execute_result",
          "data": {
            "text/plain": [
              "<keras.callbacks.callbacks.History at 0x7fdfa6b2b898>"
            ]
          },
          "metadata": {
            "tags": []
          },
          "execution_count": 49
        }
      ]
    },
    {
      "cell_type": "code",
      "metadata": {
        "id": "rJvhQEjgYzP4",
        "colab_type": "code",
        "outputId": "6c352767-8f47-4d32-c9a3-2b36d3e12f73",
        "colab": {
          "base_uri": "https://localhost:8080/",
          "height": 34
        }
      },
      "source": [
        "score = model.evaluate(x_test, y_test, verbose=0)\n",
        "score"
      ],
      "execution_count": 0,
      "outputs": [
        {
          "output_type": "execute_result",
          "data": {
            "text/plain": [
              "[0.030912711060268692, 0.9937999844551086]"
            ]
          },
          "metadata": {
            "tags": []
          },
          "execution_count": 50
        }
      ]
    }
  ]
}